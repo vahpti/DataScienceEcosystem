{
 "cells": [
  {
   "cell_type": "markdown",
   "id": "c9eab20f-bc6e-42d5-a1dc-3f41c0016356",
   "metadata": {},
   "source": [
    "# Data Science Tools and Ecosystem"
   ]
  },
  {
   "cell_type": "markdown",
   "id": "fa3ac495-7fe5-4d68-86b3-d436aea398de",
   "metadata": {},
   "source": [
    "In this notebook, Data Science Tools and Ecosystem are summarized."
   ]
  },
  {
   "cell_type": "markdown",
   "id": "82451206-5a70-4fce-8fbb-38ad51d46bc4",
   "metadata": {},
   "source": [
    "**Objectives:**\n",
    "- languages in Data science\n",
    "- Data Science tools\n",
    "- python calculations"
   ]
  },
  {
   "cell_type": "markdown",
   "id": "42c9f102-cb5e-45e9-a0d3-c400f25010ab",
   "metadata": {},
   "source": [
    "Some of the popular languages that Data Scientists use are:\n",
    "1. Python\n",
    "2. R\n",
    "3. SQL"
   ]
  },
  {
   "cell_type": "markdown",
   "id": "2c796123-7564-44c9-b23f-0009cfe7ef27",
   "metadata": {},
   "source": [
    "Some of the commonly used libraries used by Data Scientists include:\n",
    "1. NumPy\n",
    "2. Pandas\n",
    "3. Matplotlib"
   ]
  },
  {
   "cell_type": "markdown",
   "id": "8e254901-2c92-45ba-8403-9ad469b8def9",
   "metadata": {},
   "source": [
    "|Data Science Tools|\n",
    "|------------------|\n",
    "|Apache Spark|\n",
    "|Hadoop|\n",
    "|TensorFlow|"
   ]
  },
  {
   "cell_type": "markdown",
   "id": "12fad3f3-1f3e-4577-b89f-6e12f4c94ab2",
   "metadata": {},
   "source": [
    "### Below are a few examples of evaluating arithmetic expressions in Python."
   ]
  },
  {
   "cell_type": "code",
   "execution_count": 2,
   "id": "c50a5ff5-4a03-4e78-8769-750a03ec841b",
   "metadata": {},
   "outputs": [
    {
     "data": {
      "text/plain": [
       "17"
      ]
     },
     "execution_count": 2,
     "metadata": {},
     "output_type": "execute_result"
    }
   ],
   "source": [
    "# This a simple arithmetic expression to mutiply then add integers\n",
    "(3*4)+5"
   ]
  },
  {
   "cell_type": "code",
   "execution_count": 4,
   "id": "28c427fc-db1c-488c-a253-4ee50da65233",
   "metadata": {},
   "outputs": [
    {
     "data": {
      "text/plain": [
       "3.3333333333333335"
      ]
     },
     "execution_count": 4,
     "metadata": {},
     "output_type": "execute_result"
    }
   ],
   "source": [
    "# This will convert 200 minutes to hours by diving by 60\n",
    "200/60"
   ]
  },
  {
   "cell_type": "markdown",
   "id": "4a1b8279-5c0b-4a91-b218-3a4de9ceb998",
   "metadata": {},
   "source": [
    "## Author\n",
    "Vivien"
   ]
  },
  {
   "cell_type": "code",
   "execution_count": null,
   "id": "7d79d4c9-1063-4af1-a36f-a0a83a7d3ae1",
   "metadata": {},
   "outputs": [],
   "source": []
  }
 ],
 "metadata": {
  "kernelspec": {
   "display_name": "Python 3 (ipykernel)",
   "language": "python",
   "name": "python3"
  },
  "language_info": {
   "codemirror_mode": {
    "name": "ipython",
    "version": 3
   },
   "file_extension": ".py",
   "mimetype": "text/x-python",
   "name": "python",
   "nbconvert_exporter": "python",
   "pygments_lexer": "ipython3",
   "version": "3.12.8"
  }
 },
 "nbformat": 4,
 "nbformat_minor": 5
}
